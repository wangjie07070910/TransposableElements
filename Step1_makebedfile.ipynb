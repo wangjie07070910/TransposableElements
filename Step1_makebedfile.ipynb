{
 "cells": [
  {
   "cell_type": "code",
   "execution_count": 1,
   "id": "631d6e69",
   "metadata": {},
   "outputs": [
    {
     "name": "stdout",
     "output_type": "stream",
     "text": [
      "['6069_pcrfree.teinsertions', '6069.teinsertions', '6191.teinsertions', '6966_pcrfree.teinsertions', '6184.teinsertions', '6969.teinsertions', '6046_pcrfree.teinsertions', '6969_pcrfree.teinsertions', '9412.teinsertions', '6191_pcrfree.teinsertions', '9452.teinsertions', '6124.teinsertions', '9559.teinsertions', '9888.teinsertions', '6046.teinsertions', '6024.teinsertions', '9888_pcrfree.teinsertions', '9412_pcrfree.teinsertions', '6104.teinsertions', '8242_pcrfree.teinsertions', '6124_pcrfree.teinsertions', '8242.teinsertions', '9917_pcrfree.teinsertions', '6184_pcrfree.teinsertions', '6104_pcrfree.teinsertions', '6966.teinsertions', '9917.teinsertions', '9452_pcrfree.teinsertions', '6024_pcrfree.teinsertions', '9559_pcrfree.teinsertions']\n"
     ]
    }
   ],
   "source": [
    "import pandas as pd\n",
    "import numpy as np\n",
    "import matplotlib as mt\n",
    "import glob\n",
    "import pyranges as pr\n",
    "from pyranges import PyRanges\n",
    "from io import StringIO\n",
    "import numpy\n",
    "import os\n",
    "import optparse\n",
    "os.chdir('/Users/robin.burns/Documents/012TransposableElements/002PCRArtifacts/003control/003lowcomplexity/highermapq')\n",
    "files = glob.glob(\"*.teinsertions\")\n",
    "print(files)"
   ]
  },
  {
   "cell_type": "code",
   "execution_count": 3,
   "id": "668927dc",
   "metadata": {},
   "outputs": [],
   "source": [
    "for f in files:\n",
    "    mytes=pd.read_csv(f, header=None, sep='\\t')\n",
    "    mytes.head(n=5)\n",
    "    mytes[1]=pd.Categorical(mytes[1],categories=['Chr1', 'Chr2', 'Chr3', 'Chr4', 'Chr5', 'ChrC','ChrM'])\n",
    "    mytes=mytes.sort_values([1, 2])\n",
    "    mytes=mytes.reset_index()\n",
    "    f2=str(f)\n",
    "    f2=f.replace('.teinsertions', '')\n",
    "    mytes.columns = ['index','ugh','Chromosome','Start','blah','TE_seq','TEfamily','readtype', 'blah', 'coverage']\n",
    "    mytes['End']=mytes['Start']+1\n",
    "    mytes=mytes[['Chromosome','Start','End','TEfamily']]\n",
    "    mytes.head(n=5)\n",
    "    mytes=PyRanges(mytes)\n",
    "    mycluster=mytes.cluster(strand=None, by='TEfamily', slack=10000, count=False, nb_cpu=1)\n",
    "    mycluster.to_bed('%s.tmp'%(f2))\n",
    "    mycluster=pd.read_csv('%s.tmp'%(f2), header=None, sep='\\t')\n",
    "    mygrp = mycluster.groupby(7) \\\n",
    "       .agg({0:'unique',1:'median', 6:'unique'}) \\\n",
    "       .reset_index()\n",
    "\n",
    "    mygrp[0] = mygrp[0].str[0]\n",
    "    mygrp[6] = mygrp[6].str[0]\n",
    "    mygrp[1] = mygrp[1].astype(int)\n",
    "    mygrp[2]=mygrp[1]+1\n",
    "    mygrp=mygrp[[0,1,2,6]]\n",
    "    mygrp.columns = ['Chromosome','Start','End',\n",
    "                     'TEfamily']\n",
    "    mygrp['acc']=f2\n",
    "    mygrp.to_csv('%s.exons.bed'%(f2), header=True)\n"
   ]
  },
  {
   "cell_type": "code",
   "execution_count": null,
   "id": "db0cec67",
   "metadata": {},
   "outputs": [],
   "source": []
  }
 ],
 "metadata": {
  "kernelspec": {
   "display_name": "Python 3 (ipykernel)",
   "language": "python",
   "name": "python3"
  },
  "language_info": {
   "codemirror_mode": {
    "name": "ipython",
    "version": 3
   },
   "file_extension": ".py",
   "mimetype": "text/x-python",
   "name": "python",
   "nbconvert_exporter": "python",
   "pygments_lexer": "ipython3",
   "version": "3.9.5"
  }
 },
 "nbformat": 4,
 "nbformat_minor": 5
}
